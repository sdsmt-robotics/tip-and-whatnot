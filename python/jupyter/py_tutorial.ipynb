{
 "cells": [
  {
   "cell_type": "code",
   "execution_count": 19,
   "metadata": {
    "collapsed": false,
    "scrolled": true
   },
   "outputs": [
    {
     "name": "stdout",
     "output_type": "stream",
     "text": [
      "3\n",
      "test\n",
      "another test&\n",
      "[1, 2, 3, 4]\n"
     ]
    }
   ],
   "source": [
    "# This is a comment\n",
    "\n",
    "spam = 3\n",
    "print(spam)\n",
    "\n",
    "spam = \"test\"\n",
    "print(spam)\n",
    "\n",
    "# Python sees no difference between \" and '\n",
    "spam2 = 'another test'\n",
    "spam3 = 'contains \"'\n",
    "spam4 = \"contains '\"\n",
    "spam5 = 4*'n'  # 'nnnn'\n",
    "print(spam2, end='&\\n')  # we can also customize the line endings\n",
    "\n",
    "spam = [1, 2, 3, 4]\n",
    "print(spam)\n"
   ]
  },
  {
   "cell_type": "code",
   "execution_count": 20,
   "metadata": {
    "collapsed": false,
    "scrolled": true
   },
   "outputs": [
    {
     "name": "stdout",
     "output_type": "stream",
     "text": [
      "spam: [1, 2, 3, 4]\n",
      "spam: [1, 2, 3, 4] spam+[\"a\"]: [1, 2, 3, 4, 'a']\n"
     ]
    }
   ],
   "source": [
    "# Python offers string formatting\n",
    "print('spam: %s' % (spam))\n",
    "print('spam: {} spam+[\"a\"]: {}'.format(spam, spam+['a']))"
   ]
  },
  {
   "cell_type": "code",
   "execution_count": 21,
   "metadata": {
    "collapsed": false,
    "scrolled": true
   },
   "outputs": [
    {
     "data": {
      "text/plain": [
       "[int, float, complex, float]"
      ]
     },
     "execution_count": 21,
     "metadata": {},
     "output_type": "execute_result"
    }
   ],
   "source": [
    "a = 1\n",
    "a2 = 2\n",
    "b = 2.0\n",
    "c = 1 + 3j\n",
    "d = 3e-4\n",
    "\n",
    "# More on this later\n",
    "l = [a, b, c, d]\n",
    "[type(i) for i in l]  # this is a 'list comprehension', it creates a new list from an old one in place"
   ]
  },
  {
   "cell_type": "code",
   "execution_count": 22,
   "metadata": {
    "collapsed": false,
    "scrolled": true
   },
   "outputs": [
    {
     "name": "stdout",
     "output_type": "stream",
     "text": [
      "3.0\n",
      "2.0\n",
      "(3+3j)\n",
      "0.5\n",
      "0.0\n",
      "0\n",
      "(-0.9739888359315625+1.746810163549743j)\n"
     ]
    }
   ],
   "source": [
    "print(a + b)\n",
    "print(a * b)\n",
    "print(b + c)\n",
    "print(a / a2)\n",
    "print(b % a)\n",
    "print(a // a2)  # This is new in Python 3, it's the old style integer division truncation\n",
    "\n",
    "print(b**c)  # ** is the power operator\n",
    "\n",
    "# <<, >>, &, |, ~, and ^ are the C/C++ standard bitwise operators, but I'd recommend against using them\n",
    "a += 1\n",
    "a /= 2\n",
    "a *= 3\n",
    "a **= 4"
   ]
  },
  {
   "cell_type": "code",
   "execution_count": 23,
   "metadata": {
    "collapsed": false,
    "scrolled": true
   },
   "outputs": [
    {
     "data": {
      "text/plain": [
       "[type,\n",
       " NoneType,\n",
       " bool,\n",
       " int,\n",
       " int,\n",
       " int,\n",
       " int,\n",
       " int,\n",
       " float,\n",
       " complex,\n",
       " str,\n",
       " str,\n",
       " str,\n",
       " bytes,\n",
       " list]"
      ]
     },
     "execution_count": 23,
     "metadata": {},
     "output_type": "execute_result"
    }
   ],
   "source": [
    "# Types\n",
    "l = [type, None, True, 1, 0x7fffffff, 0x80000000, 0b1001, 0o17, 1.0, 1j, 'a', u'a', r'a', b'a', l]\n",
    "[type(i) for i in l]"
   ]
  },
  {
   "cell_type": "code",
   "execution_count": 24,
   "metadata": {
    "collapsed": false,
    "scrolled": true
   },
   "outputs": [
    {
     "data": {
      "text/plain": [
       "['0b101010', '0x2a', 42, '0o52', 42, '*', 42.0]"
      ]
     },
     "execution_count": 24,
     "metadata": {},
     "output_type": "execute_result"
    }
   ],
   "source": [
    "# Conversions\n",
    "a = 42\n",
    "l = [bin, hex, int, oct, int, chr, float]\n",
    "\n",
    "# We can also use complex(), list(), tuple(), set(), and dict() on things\n",
    "[i(a) for i in l]"
   ]
  },
  {
   "cell_type": "code",
   "execution_count": 25,
   "metadata": {
    "collapsed": false,
    "scrolled": true
   },
   "outputs": [
    {
     "name": "stdout",
     "output_type": "stream",
     "text": [
      "a < b\n",
      "infinite loop?\n",
      "1\n",
      "2\n",
      "3\n",
      "4\n",
      "a\n",
      "b\n",
      "c\n",
      "d\n",
      "ax\n",
      "by\n",
      "cz\n",
      "index: 0 item: a\n",
      "index: 1 item: b\n",
      "index: 2 item: c\n"
     ]
    }
   ],
   "source": [
    "# Control flow\n",
    "a = 1\n",
    "b = 2\n",
    "\n",
    "if a < b:\n",
    "    print('a < b')\n",
    "elif a > b:\n",
    "    print('a > b')\n",
    "else:\n",
    "    print('else')\n",
    "    \n",
    "while True:\n",
    "    pass  # does exactly nothing\n",
    "    print('infinite loop?')\n",
    "    break  # also continue\n",
    "\n",
    "l = [1, 2, 3, 4]\n",
    "for i in l:  # a 'for each' loop similar to `for (auto i : seq)` in C++\n",
    "    print(i)\n",
    "\n",
    "for c in 'abcd':\n",
    "    print(c)\n",
    "\n",
    "# multiple lists at once:\n",
    "for i, j in zip('abc', 'xyz'):  # will iterate over the shortest of the two lists\n",
    "    print(i+j)\n",
    "    \n",
    "# index and list at once:\n",
    "for index, item in enumerate('abc'):\n",
    "    print('index: {} item: {}'.format(index, item))"
   ]
  },
  {
   "cell_type": "code",
   "execution_count": 26,
   "metadata": {
    "collapsed": false,
    "scrolled": true
   },
   "outputs": [
    {
     "name": "stdout",
     "output_type": "stream",
     "text": [
      "4\n",
      "2\n",
      "[0, 1, 2, 3, 4, 5, 6, 7, 8, 9]\n",
      "[0, 1, 4, 9, 16, 25, 36, 49, 64, 81]\n",
      "[1, 9, 25, 49, 81]\n",
      "[0, 1, 2, 9, 4, 25, 6, 49, 8, 81]\n"
     ]
    },
    {
     "data": {
      "text/plain": [
       "[None, None, None, None]"
      ]
     },
     "execution_count": 26,
     "metadata": {},
     "output_type": "execute_result"
    }
   ],
   "source": [
    "# List comprehensions\n",
    "l = [i for i in range(10)]\n",
    "ll = [i**2 for i in range(10)]\n",
    "lll = [i**2 for i in range(10) if i%2 != 0 ]\n",
    "llll = [i**2 if i%2 != 0 else i for i in range(10)]\n",
    "\n",
    "a = 2 if False else 4  # Python ternary statement\n",
    "b = 2 if True else f\n",
    "print(a)\n",
    "print(b)\n",
    "\n",
    "c = [l, ll, lll, llll]\n",
    "[print(i) for i in c]"
   ]
  },
  {
   "cell_type": "code",
   "execution_count": 27,
   "metadata": {
    "collapsed": false,
    "scrolled": true
   },
   "outputs": [
    {
     "name": "stdout",
     "output_type": "stream",
     "text": [
      "16\n",
      "1\n",
      "16\n",
      "16\n",
      "16\n",
      "16\n"
     ]
    }
   ],
   "source": [
    "# functions\n",
    "\n",
    "def func1(a=1, b=2):\n",
    "    return a**b\n",
    "\n",
    "print(func1(4, 2))\n",
    "print(func1())\n",
    "print(func1(a=4, b=2))\n",
    "print(func1(4, b=2))\n",
    "print(func1(b=2, a=4))\n",
    "\n",
    "def func2(a=1, b=2):\n",
    "    print(a**b)\n",
    "    \n",
    "func2(4, 2)"
   ]
  },
  {
   "cell_type": "code",
   "execution_count": 28,
   "metadata": {
    "collapsed": false,
    "scrolled": true
   },
   "outputs": [
    {
     "name": "stdout",
     "output_type": "stream",
     "text": [
      "10\n",
      "11\n",
      "12\n",
      "======\n",
      "13\n",
      "14\n",
      "15\n",
      "======\n",
      "0\n",
      "1\n",
      "2\n",
      "======\n",
      "3\n",
      "4\n",
      "5\n"
     ]
    }
   ],
   "source": [
    "# Generators\n",
    "\n",
    "def integers():\n",
    "    \"\"\"Infinite sequence of integers starting at 10.\"\"\"\n",
    "    i = 10\n",
    "    while True:\n",
    "        yield i\n",
    "        i += 1\n",
    "\n",
    "gen = integers()\n",
    "        \n",
    "for i in gen:\n",
    "    print(i)\n",
    "    \n",
    "    if i > 11:\n",
    "        break\n",
    "    \n",
    "print('======')\n",
    "\n",
    "for i in gen:\n",
    "    print(i)\n",
    "    \n",
    "    if i > 14:\n",
    "        break\n",
    "        \n",
    "print('======')\n",
    "\n",
    "# Generator expressions:\n",
    "gen1 = (i for i in range(6))  # redundant because how range() is implemented\n",
    "\n",
    "print(next(gen1))\n",
    "print(next(gen1))\n",
    "print(next(gen1))\n",
    "\n",
    "print('======')\n",
    "\n",
    "for i in gen1:\n",
    "    print(i)\n"
   ]
  },
  {
   "cell_type": "code",
   "execution_count": 29,
   "metadata": {
    "collapsed": true,
    "scrolled": true
   },
   "outputs": [],
   "source": [
    "# Strings\n",
    "\n",
    "meat = \"\"\"Ground round fatback cow jerky porchetta hamburger shoulder short loin frankfurter salami short ribs corned beef pig shankle meatball. Chuck brisket pork loin shankle prosciutto swine. Tenderloin pastrami doner venison jowl jerky rump cow bacon leberkas capicola sausage pork ham hock. Ball tip salami ham brisket sausage. Rump ham hock shoulder sausage shank. Tri-tip ham venison, jerky landjaeger cow shank andouille alcatra shoulder. Flank salami spare ribs rump, ham hock t-bone pancetta strip steak.\n",
    "Shankle sausage cow hamburger shoulder, fatback kevin chicken pork biltong porchetta jerky cupim jowl doner. Jerky pastrami alcatra rump pork belly tongue. Hamburger chuck bacon flank, pastrami bresaola alcatra turkey filet mignon pig brisket. Shank pork boudin tenderloin. Flank meatball ham, capicola hamburger landjaeger short loin beef ribs sausage. Chicken brisket turducken, bresaola pig swine hamburger shank rump ball tip venison fatback spare ribs bacon doner.\n",
    "Kevin spare ribs pastrami tail capicola picanha meatball shankle short ribs drumstick jowl cow. Meatloaf capicola pastrami ball tip sausage short ribs cow turducken meatball. Andouille pork loin strip steak ribeye chicken turkey, cupim shank salami t-bone boudin tongue filet mignon. Sausage turkey tail chicken pig, spare ribs biltong fatback beef ribs. Shankle sirloin chuck meatloaf leberkas rump frankfurter, shoulder turducken brisket tongue porchetta filet mignon. Kevin fatback turkey meatloaf, pig pork chop andouille ball tip beef ribs beef chuck kielbasa short loin shoulder.\n",
    "Cupim frankfurter biltong alcatra. Tail pork loin meatloaf brisket sirloin, tri-tip turkey drumstick alcatra kevin turducken chicken. Picanha bacon ground round strip steak. Fatback rump beef ribs frankfurter shoulder pork loin pig pastrami, ham hock cow. Fatback tongue short ribs bresaola salami chuck venison kevin strip steak sausage doner short loin drumstick.\n",
    "Shank tri-tip boudin drumstick rump turducken jowl spare ribs. Pastrami doner picanha meatloaf beef ribs. Bresaola tongue leberkas turducken landjaeger pancetta swine cupim porchetta shank hamburger corned beef ball tip. Sirloin short ribs spare ribs, bresaola kielbasa rump jowl prosciutto boudin drumstick pork t-bone. Sausage landjaeger tenderloin jerky venison ribeye fatback chicken. Filet mignon leberkas shoulder andouille, biltong rump ribeye pancetta pork chop brisket spare ribs salami turducken.\n",
    "Boudin venison pancetta salami strip steak, cupim doner tongue ham hock turkey filet mignon rump biltong shank jerky. Kielbasa frankfurter cupim corned beef sirloin leberkas picanha beef ribs. Turducken beef ribs doner, ribeye venison drumstick beef jowl brisket filet mignon turkey. Ground round corned beef meatball capicola.\n",
    "Fatback beef kevin meatball capicola porchetta. Short loin venison kielbasa shoulder chicken. Biltong pig corned beef fatback, capicola pancetta shankle pork belly tail shoulder ball tip swine cow tongue. Flank bacon rump pork loin tail brisket corned beef leberkas. Leberkas ground round beef doner corned beef pork loin kevin turkey picanha jowl filet mignon. Rump pastrami salami, chuck jowl biltong drumstick pork loin doner.\n",
    "Picanha pork chop chuck pork loin sirloin salami pig landjaeger venison ground round brisket jerky tri-tip swine. Prosciutto short loin porchetta shoulder brisket cupim corned beef jowl. Picanha chicken tri-tip pig tail, cupim short ribs ground round andouille pork belly sausage kevin ribeye. Sirloin picanha pastrami fatback tri-tip, meatloaf doner t-bone kevin bresaola.\n",
    "Turkey brisket filet mignon jerky biltong, prosciutto pork chop pork jowl picanha ball tip. Pastrami short loin sausage bresaola ham hock. Frankfurter filet mignon andouille shoulder. Prosciutto t-bone andouille ground round rump boudin capicola meatloaf spare ribs brisket. Pork loin turkey drumstick ham hock t-bone shankle. Bacon tail kielbasa pastrami, pork chop hamburger ground round turducken jowl strip steak.\n",
    "Tri-tip filet mignon ham hock t-bone doner chuck biltong cupim bacon flank tail pastrami. Shoulder brisket pork chop, tail ham hock chuck doner filet mignon shank fatback rump prosciutto ribeye. Andouille jerky bacon chicken, tongue frankfurter ribeye spare ribs. Ham prosciutto meatball, drumstick biltong sausage strip steak andouille ground round fatback salami bacon jerky. Pig ham beef fatback prosciutto ground round tri-tip frankfurter landjaeger kielbasa.\n",
    "Drumstick biltong beef, shank pancetta pastrami cupim boudin. Tail sausage picanha tri-tip pork belly jerky. Drumstick chuck frankfurter prosciutto, picanha tri-tip filet mignon pig t-bone alcatra ground round bacon cow ham. Leberkas bresaola cupim shoulder tongue kevin. Chuck strip steak swine capicola short ribs, biltong bacon.\n",
    "Strip steak biltong drumstick pork loin tail. Cupim tongue pancetta biltong, prosciutto swine jowl brisket beef tri-tip ball tip tail venison doner. T-bone pig porchetta sirloin, ham hock venison tail salami pork chop pancetta shank boudin tenderloin fatback. Spare ribs shoulder hamburger meatloaf, beef turducken doner shankle pork chop. Beef ribs doner jowl, short loin short ribs tail drumstick porchetta ham hock flank ground round picanha turkey. Ball tip shoulder pastrami jowl turkey beef.\n",
    "Pastrami bresaola biltong shank filet mignon spare ribs jerky jowl kevin picanha landjaeger frankfurter boudin sausage tenderloin. Kielbasa jowl short ribs, tri-tip doner picanha biltong alcatra pork loin. Short loin pork belly tail brisket. Capicola chuck biltong leberkas, doner porchetta cow jerky. Porchetta andouille ham shank ball tip capicola, jowl pancetta pork belly.\n",
    "Short loin alcatra swine chuck ham shoulder beef flank turkey landjaeger bacon pork belly. Pig pancetta short ribs capicola ground round beef, landjaeger pork belly porchetta swine meatloaf frankfurter bacon short loin. Chicken landjaeger fatback, ham strip steak pig kevin beef turducken pork loin meatball beef ribs pork chop pancetta doner. Leberkas porchetta spare ribs, alcatra doner filet mignon rump frankfurter beef. Alcatra ham salami sirloin tongue boudin jowl. Turkey short loin chuck, short ribs kevin ball tip shoulder. Picanha pig short ribs flank bacon rump strip steak pastrami short loin tongue pork pancetta kielbasa beef ribs bresaola.\n",
    "Pork loin shoulder cow spare ribs. T-bone brisket flank, frankfurter ball tip ground round shankle porchetta tail tenderloin corned beef kevin short ribs. Cow shank beef ribs salami ball tip meatloaf porchetta cupim pastrami. Ham corned beef salami ham hock. Sausage bacon fatback beef ribs, drumstick andouille beef tail spare ribs venison kevin.\"\"\""
   ]
  },
  {
   "cell_type": "code",
   "execution_count": 30,
   "metadata": {
    "collapsed": false,
    "scrolled": true
   },
   "outputs": [
    {
     "data": {
      "text/plain": [
       "'Ground round fatback cow jerky porchetta hamburger shoulder short loin frankfurter salami short ribs corned beef pig shankle meatball. Chuck brisket pork loin shankle prosciutto swine. Tenderloin pastrami doner venison jowl jerky rump cow bacon leberkas capicola sausage pork ham hock. Ball tip salami ham brisket sausage. Rump ham hock shoulder sausage shank. Tri-tip ham venison, jerky landjaeger cow shank andouille alcatra shoulder. Flank salami spare ribs rump, ham hock t-bone pancetta strip steak. Shankle sausage cow hamburger shoulder, fatback kevin chicken pork biltong porchetta jerky cupim jowl doner. Jerky pastrami alcatra rump pork belly tongue. Hamburger chuck bacon flank, pastrami bresaola alcatra turkey filet mignon pig brisket. Shank pork boudin tenderloin. Flank meatball ham, capicola hamburger landjaeger short loin beef ribs sausage. Chicken brisket turducken, bresaola pig swine hamburger shank rump ball tip venison fatback spare ribs bacon doner. Kevin spare ribs pastrami tail capicola picanha meatball shankle short ribs drumstick jowl cow. Meatloaf capicola pastrami ball tip sausage short ribs cow turducken meatball. Andouille pork loin strip steak ribeye chicken turkey, cupim shank salami t-bone boudin tongue filet mignon. Sausage turkey tail chicken pig, spare ribs biltong fatback beef ribs. Shankle sirloin chuck meatloaf leberkas rump frankfurter, shoulder turducken brisket tongue porchetta filet mignon. Kevin fatback turkey meatloaf, pig pork chop andouille ball tip beef ribs beef chuck kielbasa short loin shoulder. Cupim frankfurter biltong alcatra. Tail pork loin meatloaf brisket sirloin, tri-tip turkey drumstick alcatra kevin turducken chicken. Picanha bacon ground round strip steak. Fatback rump beef ribs frankfurter shoulder pork loin pig pastrami, ham hock cow. Fatback tongue short ribs bresaola salami chuck venison kevin strip steak sausage doner short loin drumstick. Shank tri-tip boudin drumstick rump turducken jowl spare ribs. Pastrami doner picanha meatloaf beef ribs. Bresaola tongue leberkas turducken landjaeger pancetta swine cupim porchetta shank hamburger corned beef ball tip. Sirloin short ribs spare ribs, bresaola kielbasa rump jowl prosciutto boudin drumstick pork t-bone. Sausage landjaeger tenderloin jerky venison ribeye fatback chicken. Filet mignon leberkas shoulder andouille, biltong rump ribeye pancetta pork chop brisket spare ribs salami turducken. Boudin venison pancetta salami strip steak, cupim doner tongue ham hock turkey filet mignon rump biltong shank jerky. Kielbasa frankfurter cupim corned beef sirloin leberkas picanha beef ribs. Turducken beef ribs doner, ribeye venison drumstick beef jowl brisket filet mignon turkey. Ground round corned beef meatball capicola. Fatback beef kevin meatball capicola porchetta. Short loin venison kielbasa shoulder chicken. Biltong pig corned beef fatback, capicola pancetta shankle pork belly tail shoulder ball tip swine cow tongue. Flank bacon rump pork loin tail brisket corned beef leberkas. Leberkas ground round beef doner corned beef pork loin kevin turkey picanha jowl filet mignon. Rump pastrami salami, chuck jowl biltong drumstick pork loin doner. Picanha pork chop chuck pork loin sirloin salami pig landjaeger venison ground round brisket jerky tri-tip swine. Prosciutto short loin porchetta shoulder brisket cupim corned beef jowl. Picanha chicken tri-tip pig tail, cupim short ribs ground round andouille pork belly sausage kevin ribeye. Sirloin picanha pastrami fatback tri-tip, meatloaf doner t-bone kevin bresaola. Turkey brisket filet mignon jerky biltong, prosciutto pork chop pork jowl picanha ball tip. Pastrami short loin sausage bresaola ham hock. Frankfurter filet mignon andouille shoulder. Prosciutto t-bone andouille ground round rump boudin capicola meatloaf spare ribs brisket. Pork loin turkey drumstick ham hock t-bone shankle. Bacon tail kielbasa pastrami, pork chop hamburger ground round turducken jowl strip steak. Tri-tip filet mignon ham hock t-bone doner chuck biltong cupim bacon flank tail pastrami. Shoulder brisket pork chop, tail ham hock chuck doner filet mignon shank fatback rump prosciutto ribeye. Andouille jerky bacon chicken, tongue frankfurter ribeye spare ribs. Ham prosciutto meatball, drumstick biltong sausage strip steak andouille ground round fatback salami bacon jerky. Pig ham beef fatback prosciutto ground round tri-tip frankfurter landjaeger kielbasa. Drumstick biltong beef, shank pancetta pastrami cupim boudin. Tail sausage picanha tri-tip pork belly jerky. Drumstick chuck frankfurter prosciutto, picanha tri-tip filet mignon pig t-bone alcatra ground round bacon cow ham. Leberkas bresaola cupim shoulder tongue kevin. Chuck strip steak swine capicola short ribs, biltong bacon. Strip steak biltong drumstick pork loin tail. Cupim tongue pancetta biltong, prosciutto swine jowl brisket beef tri-tip ball tip tail venison doner. T-bone pig porchetta sirloin, ham hock venison tail salami pork chop pancetta shank boudin tenderloin fatback. Spare ribs shoulder hamburger meatloaf, beef turducken doner shankle pork chop. Beef ribs doner jowl, short loin short ribs tail drumstick porchetta ham hock flank ground round picanha turkey. Ball tip shoulder pastrami jowl turkey beef. Pastrami bresaola biltong shank filet mignon spare ribs jerky jowl kevin picanha landjaeger frankfurter boudin sausage tenderloin. Kielbasa jowl short ribs, tri-tip doner picanha biltong alcatra pork loin. Short loin pork belly tail brisket. Capicola chuck biltong leberkas, doner porchetta cow jerky. Porchetta andouille ham shank ball tip capicola, jowl pancetta pork belly. Short loin alcatra swine chuck ham shoulder beef flank turkey landjaeger bacon pork belly. Pig pancetta short ribs capicola ground round beef, landjaeger pork belly porchetta swine meatloaf frankfurter bacon short loin. Chicken landjaeger fatback, ham strip steak pig kevin beef turducken pork loin meatball beef ribs pork chop pancetta doner. Leberkas porchetta spare ribs, alcatra doner filet mignon rump frankfurter beef. Alcatra ham salami sirloin tongue boudin jowl. Turkey short loin chuck, short ribs kevin ball tip shoulder. Picanha pig short ribs flank bacon rump strip steak pastrami short loin tongue pork pancetta kielbasa beef ribs bresaola. Pork loin shoulder cow spare ribs. T-bone brisket flank, frankfurter ball tip ground round shankle porchetta tail tenderloin corned beef kevin short ribs. Cow shank beef ribs salami ball tip meatloaf porchetta cupim pastrami. Ham corned beef salami ham hock. Sausage bacon fatback beef ribs, drumstick andouille beef tail spare ribs venison kevin.'"
      ]
     },
     "execution_count": 30,
     "metadata": {},
     "output_type": "execute_result"
    }
   ],
   "source": [
    "meat.replace('\\n', ' ')"
   ]
  },
  {
   "cell_type": "code",
   "execution_count": 31,
   "metadata": {
    "collapsed": false,
    "scrolled": true
   },
   "outputs": [
    {
     "data": {
      "text/plain": [
       "['Ground round fatback cow jerky porchetta hamburger shoulder short loin frankfurter salami short ribs corned beef pig shankle meatball',\n",
       " 'Chuck brisket pork loin shankle prosciutto swine',\n",
       " 'Tenderloin pastrami doner venison jowl jerky rump cow bacon leberkas capicola sausage pork ham hock',\n",
       " 'Ball tip salami ham brisket sausage',\n",
       " 'Rump ham hock shoulder sausage shank',\n",
       " 'Tri-tip ham venison, jerky landjaeger cow shank andouille alcatra shoulder',\n",
       " 'Flank salami spare ribs rump, ham hock t-bone pancetta strip steak.\\nShankle sausage cow hamburger shoulder, fatback kevin chicken pork biltong porchetta jerky cupim jowl doner',\n",
       " 'Jerky pastrami alcatra rump pork belly tongue',\n",
       " 'Hamburger chuck bacon flank, pastrami bresaola alcatra turkey filet mignon pig brisket',\n",
       " 'Shank pork boudin tenderloin',\n",
       " 'Flank meatball ham, capicola hamburger landjaeger short loin beef ribs sausage',\n",
       " 'Chicken brisket turducken, bresaola pig swine hamburger shank rump ball tip venison fatback spare ribs bacon doner.\\nKevin spare ribs pastrami tail capicola picanha meatball shankle short ribs drumstick jowl cow',\n",
       " 'Meatloaf capicola pastrami ball tip sausage short ribs cow turducken meatball',\n",
       " 'Andouille pork loin strip steak ribeye chicken turkey, cupim shank salami t-bone boudin tongue filet mignon',\n",
       " 'Sausage turkey tail chicken pig, spare ribs biltong fatback beef ribs',\n",
       " 'Shankle sirloin chuck meatloaf leberkas rump frankfurter, shoulder turducken brisket tongue porchetta filet mignon',\n",
       " 'Kevin fatback turkey meatloaf, pig pork chop andouille ball tip beef ribs beef chuck kielbasa short loin shoulder.\\nCupim frankfurter biltong alcatra',\n",
       " 'Tail pork loin meatloaf brisket sirloin, tri-tip turkey drumstick alcatra kevin turducken chicken',\n",
       " 'Picanha bacon ground round strip steak',\n",
       " 'Fatback rump beef ribs frankfurter shoulder pork loin pig pastrami, ham hock cow',\n",
       " 'Fatback tongue short ribs bresaola salami chuck venison kevin strip steak sausage doner short loin drumstick.\\nShank tri-tip boudin drumstick rump turducken jowl spare ribs',\n",
       " 'Pastrami doner picanha meatloaf beef ribs',\n",
       " 'Bresaola tongue leberkas turducken landjaeger pancetta swine cupim porchetta shank hamburger corned beef ball tip',\n",
       " 'Sirloin short ribs spare ribs, bresaola kielbasa rump jowl prosciutto boudin drumstick pork t-bone',\n",
       " 'Sausage landjaeger tenderloin jerky venison ribeye fatback chicken',\n",
       " 'Filet mignon leberkas shoulder andouille, biltong rump ribeye pancetta pork chop brisket spare ribs salami turducken.\\nBoudin venison pancetta salami strip steak, cupim doner tongue ham hock turkey filet mignon rump biltong shank jerky',\n",
       " 'Kielbasa frankfurter cupim corned beef sirloin leberkas picanha beef ribs',\n",
       " 'Turducken beef ribs doner, ribeye venison drumstick beef jowl brisket filet mignon turkey',\n",
       " 'Ground round corned beef meatball capicola.\\nFatback beef kevin meatball capicola porchetta',\n",
       " 'Short loin venison kielbasa shoulder chicken',\n",
       " 'Biltong pig corned beef fatback, capicola pancetta shankle pork belly tail shoulder ball tip swine cow tongue',\n",
       " 'Flank bacon rump pork loin tail brisket corned beef leberkas',\n",
       " 'Leberkas ground round beef doner corned beef pork loin kevin turkey picanha jowl filet mignon',\n",
       " 'Rump pastrami salami, chuck jowl biltong drumstick pork loin doner.\\nPicanha pork chop chuck pork loin sirloin salami pig landjaeger venison ground round brisket jerky tri-tip swine',\n",
       " 'Prosciutto short loin porchetta shoulder brisket cupim corned beef jowl',\n",
       " 'Picanha chicken tri-tip pig tail, cupim short ribs ground round andouille pork belly sausage kevin ribeye',\n",
       " 'Sirloin picanha pastrami fatback tri-tip, meatloaf doner t-bone kevin bresaola.\\nTurkey brisket filet mignon jerky biltong, prosciutto pork chop pork jowl picanha ball tip',\n",
       " 'Pastrami short loin sausage bresaola ham hock',\n",
       " 'Frankfurter filet mignon andouille shoulder',\n",
       " 'Prosciutto t-bone andouille ground round rump boudin capicola meatloaf spare ribs brisket',\n",
       " 'Pork loin turkey drumstick ham hock t-bone shankle',\n",
       " 'Bacon tail kielbasa pastrami, pork chop hamburger ground round turducken jowl strip steak.\\nTri-tip filet mignon ham hock t-bone doner chuck biltong cupim bacon flank tail pastrami',\n",
       " 'Shoulder brisket pork chop, tail ham hock chuck doner filet mignon shank fatback rump prosciutto ribeye',\n",
       " 'Andouille jerky bacon chicken, tongue frankfurter ribeye spare ribs',\n",
       " 'Ham prosciutto meatball, drumstick biltong sausage strip steak andouille ground round fatback salami bacon jerky',\n",
       " 'Pig ham beef fatback prosciutto ground round tri-tip frankfurter landjaeger kielbasa.\\nDrumstick biltong beef, shank pancetta pastrami cupim boudin',\n",
       " 'Tail sausage picanha tri-tip pork belly jerky',\n",
       " 'Drumstick chuck frankfurter prosciutto, picanha tri-tip filet mignon pig t-bone alcatra ground round bacon cow ham',\n",
       " 'Leberkas bresaola cupim shoulder tongue kevin',\n",
       " 'Chuck strip steak swine capicola short ribs, biltong bacon.\\nStrip steak biltong drumstick pork loin tail',\n",
       " 'Cupim tongue pancetta biltong, prosciutto swine jowl brisket beef tri-tip ball tip tail venison doner',\n",
       " 'T-bone pig porchetta sirloin, ham hock venison tail salami pork chop pancetta shank boudin tenderloin fatback',\n",
       " 'Spare ribs shoulder hamburger meatloaf, beef turducken doner shankle pork chop',\n",
       " 'Beef ribs doner jowl, short loin short ribs tail drumstick porchetta ham hock flank ground round picanha turkey',\n",
       " 'Ball tip shoulder pastrami jowl turkey beef.\\nPastrami bresaola biltong shank filet mignon spare ribs jerky jowl kevin picanha landjaeger frankfurter boudin sausage tenderloin',\n",
       " 'Kielbasa jowl short ribs, tri-tip doner picanha biltong alcatra pork loin',\n",
       " 'Short loin pork belly tail brisket',\n",
       " 'Capicola chuck biltong leberkas, doner porchetta cow jerky',\n",
       " 'Porchetta andouille ham shank ball tip capicola, jowl pancetta pork belly.\\nShort loin alcatra swine chuck ham shoulder beef flank turkey landjaeger bacon pork belly',\n",
       " 'Pig pancetta short ribs capicola ground round beef, landjaeger pork belly porchetta swine meatloaf frankfurter bacon short loin',\n",
       " 'Chicken landjaeger fatback, ham strip steak pig kevin beef turducken pork loin meatball beef ribs pork chop pancetta doner',\n",
       " 'Leberkas porchetta spare ribs, alcatra doner filet mignon rump frankfurter beef',\n",
       " 'Alcatra ham salami sirloin tongue boudin jowl',\n",
       " 'Turkey short loin chuck, short ribs kevin ball tip shoulder',\n",
       " 'Picanha pig short ribs flank bacon rump strip steak pastrami short loin tongue pork pancetta kielbasa beef ribs bresaola.\\nPork loin shoulder cow spare ribs',\n",
       " 'T-bone brisket flank, frankfurter ball tip ground round shankle porchetta tail tenderloin corned beef kevin short ribs',\n",
       " 'Cow shank beef ribs salami ball tip meatloaf porchetta cupim pastrami',\n",
       " 'Ham corned beef salami ham hock',\n",
       " 'Sausage bacon fatback beef ribs, drumstick andouille beef tail spare ribs venison kevin.']"
      ]
     },
     "execution_count": 31,
     "metadata": {},
     "output_type": "execute_result"
    }
   ],
   "source": [
    "meat.split('. ')"
   ]
  },
  {
   "cell_type": "code",
   "execution_count": 32,
   "metadata": {
    "collapsed": false,
    "scrolled": true
   },
   "outputs": [
    {
     "data": {
      "text/plain": [
       "['Ground round fatback cow jerky porchetta hamburger shoulder short loin frankfurter salami short ribs corned beef pig shankle meatball. Chuck brisket pork loin shankle prosciutto swine. Tenderloin pastrami doner venison jowl jerky rump cow bacon leberkas capicola sausage pork ham hock. Ball tip salami ham brisket sausage. Rump ham hock shoulder sausage shank. Tri-tip ham venison, jerky landjaeger cow shank andouille alcatra shoulder. Flank salami spare ribs rump, ham hock t-bone pancetta strip steak.',\n",
       " 'Shankle sausage cow hamburger shoulder, fatback kevin chicken pork biltong porchetta jerky cupim jowl doner. Jerky pastrami alcatra rump pork belly tongue. Hamburger chuck bacon flank, pastrami bresaola alcatra turkey filet mignon pig brisket. Shank pork boudin tenderloin. Flank meatball ham, capicola hamburger landjaeger short loin beef ribs sausage. Chicken brisket turducken, bresaola pig swine hamburger shank rump ball tip venison fatback spare ribs bacon doner.',\n",
       " 'Kevin spare ribs pastrami tail capicola picanha meatball shankle short ribs drumstick jowl cow. Meatloaf capicola pastrami ball tip sausage short ribs cow turducken meatball. Andouille pork loin strip steak ribeye chicken turkey, cupim shank salami t-bone boudin tongue filet mignon. Sausage turkey tail chicken pig, spare ribs biltong fatback beef ribs. Shankle sirloin chuck meatloaf leberkas rump frankfurter, shoulder turducken brisket tongue porchetta filet mignon. Kevin fatback turkey meatloaf, pig pork chop andouille ball tip beef ribs beef chuck kielbasa short loin shoulder.',\n",
       " 'Cupim frankfurter biltong alcatra. Tail pork loin meatloaf brisket sirloin, tri-tip turkey drumstick alcatra kevin turducken chicken. Picanha bacon ground round strip steak. Fatback rump beef ribs frankfurter shoulder pork loin pig pastrami, ham hock cow. Fatback tongue short ribs bresaola salami chuck venison kevin strip steak sausage doner short loin drumstick.',\n",
       " 'Shank tri-tip boudin drumstick rump turducken jowl spare ribs. Pastrami doner picanha meatloaf beef ribs. Bresaola tongue leberkas turducken landjaeger pancetta swine cupim porchetta shank hamburger corned beef ball tip. Sirloin short ribs spare ribs, bresaola kielbasa rump jowl prosciutto boudin drumstick pork t-bone. Sausage landjaeger tenderloin jerky venison ribeye fatback chicken. Filet mignon leberkas shoulder andouille, biltong rump ribeye pancetta pork chop brisket spare ribs salami turducken.',\n",
       " 'Boudin venison pancetta salami strip steak, cupim doner tongue ham hock turkey filet mignon rump biltong shank jerky. Kielbasa frankfurter cupim corned beef sirloin leberkas picanha beef ribs. Turducken beef ribs doner, ribeye venison drumstick beef jowl brisket filet mignon turkey. Ground round corned beef meatball capicola.',\n",
       " 'Fatback beef kevin meatball capicola porchetta. Short loin venison kielbasa shoulder chicken. Biltong pig corned beef fatback, capicola pancetta shankle pork belly tail shoulder ball tip swine cow tongue. Flank bacon rump pork loin tail brisket corned beef leberkas. Leberkas ground round beef doner corned beef pork loin kevin turkey picanha jowl filet mignon. Rump pastrami salami, chuck jowl biltong drumstick pork loin doner.',\n",
       " 'Picanha pork chop chuck pork loin sirloin salami pig landjaeger venison ground round brisket jerky tri-tip swine. Prosciutto short loin porchetta shoulder brisket cupim corned beef jowl. Picanha chicken tri-tip pig tail, cupim short ribs ground round andouille pork belly sausage kevin ribeye. Sirloin picanha pastrami fatback tri-tip, meatloaf doner t-bone kevin bresaola.',\n",
       " 'Turkey brisket filet mignon jerky biltong, prosciutto pork chop pork jowl picanha ball tip. Pastrami short loin sausage bresaola ham hock. Frankfurter filet mignon andouille shoulder. Prosciutto t-bone andouille ground round rump boudin capicola meatloaf spare ribs brisket. Pork loin turkey drumstick ham hock t-bone shankle. Bacon tail kielbasa pastrami, pork chop hamburger ground round turducken jowl strip steak.',\n",
       " 'Tri-tip filet mignon ham hock t-bone doner chuck biltong cupim bacon flank tail pastrami. Shoulder brisket pork chop, tail ham hock chuck doner filet mignon shank fatback rump prosciutto ribeye. Andouille jerky bacon chicken, tongue frankfurter ribeye spare ribs. Ham prosciutto meatball, drumstick biltong sausage strip steak andouille ground round fatback salami bacon jerky. Pig ham beef fatback prosciutto ground round tri-tip frankfurter landjaeger kielbasa.',\n",
       " 'Drumstick biltong beef, shank pancetta pastrami cupim boudin. Tail sausage picanha tri-tip pork belly jerky. Drumstick chuck frankfurter prosciutto, picanha tri-tip filet mignon pig t-bone alcatra ground round bacon cow ham. Leberkas bresaola cupim shoulder tongue kevin. Chuck strip steak swine capicola short ribs, biltong bacon.',\n",
       " 'Strip steak biltong drumstick pork loin tail. Cupim tongue pancetta biltong, prosciutto swine jowl brisket beef tri-tip ball tip tail venison doner. T-bone pig porchetta sirloin, ham hock venison tail salami pork chop pancetta shank boudin tenderloin fatback. Spare ribs shoulder hamburger meatloaf, beef turducken doner shankle pork chop. Beef ribs doner jowl, short loin short ribs tail drumstick porchetta ham hock flank ground round picanha turkey. Ball tip shoulder pastrami jowl turkey beef.',\n",
       " 'Pastrami bresaola biltong shank filet mignon spare ribs jerky jowl kevin picanha landjaeger frankfurter boudin sausage tenderloin. Kielbasa jowl short ribs, tri-tip doner picanha biltong alcatra pork loin. Short loin pork belly tail brisket. Capicola chuck biltong leberkas, doner porchetta cow jerky. Porchetta andouille ham shank ball tip capicola, jowl pancetta pork belly.',\n",
       " 'Short loin alcatra swine chuck ham shoulder beef flank turkey landjaeger bacon pork belly. Pig pancetta short ribs capicola ground round beef, landjaeger pork belly porchetta swine meatloaf frankfurter bacon short loin. Chicken landjaeger fatback, ham strip steak pig kevin beef turducken pork loin meatball beef ribs pork chop pancetta doner. Leberkas porchetta spare ribs, alcatra doner filet mignon rump frankfurter beef. Alcatra ham salami sirloin tongue boudin jowl. Turkey short loin chuck, short ribs kevin ball tip shoulder. Picanha pig short ribs flank bacon rump strip steak pastrami short loin tongue pork pancetta kielbasa beef ribs bresaola.',\n",
       " 'Pork loin shoulder cow spare ribs. T-bone brisket flank, frankfurter ball tip ground round shankle porchetta tail tenderloin corned beef kevin short ribs. Cow shank beef ribs salami ball tip meatloaf porchetta cupim pastrami. Ham corned beef salami ham hock. Sausage bacon fatback beef ribs, drumstick andouille beef tail spare ribs venison kevin.']"
      ]
     },
     "execution_count": 32,
     "metadata": {},
     "output_type": "execute_result"
    }
   ],
   "source": [
    "meat.splitlines()"
   ]
  },
  {
   "cell_type": "code",
   "execution_count": 33,
   "metadata": {
    "collapsed": false,
    "scrolled": true
   },
   "outputs": [],
   "source": [
    "meat = meat.replace('.', ' ')\n",
    "meat = meat.replace(',', ' ')\n",
    "meat = meat.replace('\\n', ' ')\n",
    "meats = meat.split()\n",
    "\n",
    "meats = [m.lower() for m in meats]"
   ]
  },
  {
   "cell_type": "code",
   "execution_count": 34,
   "metadata": {
    "collapsed": false,
    "scrolled": false
   },
   "outputs": [
    {
     "name": "stdout",
     "output_type": "stream",
     "text": [
      "meat: sausage\n",
      "  count: 15\n",
      "meat: ground\n",
      "  count: 14\n",
      "meat: tip\n",
      "  count: 13\n",
      "meat: tri-tip\n",
      "  count: 12\n",
      "meat: meatloaf\n",
      "  count: 10\n",
      "meat: loin\n",
      "  count: 26\n",
      "meat: hock\n",
      "  count: 12\n",
      "meat: brisket\n",
      "  count: 17\n",
      "meat: drumstick\n",
      "  count: 14\n",
      "meat: kielbasa\n",
      "  count: 8\n",
      "meat: belly\n",
      "  count: 8\n",
      "meat: kevin\n",
      "  count: 15\n",
      "meat: tongue\n",
      "  count: 12\n",
      "meat: bresaola\n",
      "  count: 10\n",
      "meat: filet\n",
      "  count: 14\n",
      "meat: hamburger\n",
      "  count: 8\n",
      "meat: porchetta\n",
      "  count: 14\n",
      "meat: shank\n",
      "  count: 14\n",
      "meat: steak\n",
      "  count: 11\n",
      "meat: ribeye\n",
      "  count: 7\n",
      "meat: cow\n",
      "  count: 12\n",
      "meat: sirloin\n",
      "  count: 8\n",
      "meat: pancetta\n",
      "  count: 12\n",
      "meat: ham\n",
      "  count: 23\n",
      "meat: capicola\n",
      "  count: 12\n",
      "meat: ribs\n",
      "  count: 39\n",
      "meat: jerky\n",
      "  count: 14\n",
      "meat: corned\n",
      "  count: 10\n",
      "meat: flank\n",
      "  count: 9\n",
      "meat: rump\n",
      "  count: 17\n",
      "meat: doner\n",
      "  count: 19\n",
      "meat: pastrami\n",
      "  count: 17\n",
      "meat: fatback\n",
      "  count: 17\n",
      "meat: chicken\n",
      "  count: 10\n",
      "meat: cupim\n",
      "  count: 13\n",
      "meat: chuck\n",
      "  count: 14\n",
      "meat: alcatra\n",
      "  count: 10\n",
      "meat: spare\n",
      "  count: 14\n",
      "meat: prosciutto\n",
      "  count: 10\n",
      "meat: swine\n",
      "  count: 9\n",
      "meat: leberkas\n",
      "  count: 10\n",
      "meat: turducken\n",
      "  count: 11\n",
      "meat: shankle\n",
      "  count: 9\n",
      "meat: frankfurter\n",
      "  count: 13\n",
      "meat: landjaeger\n",
      "  count: 10\n",
      "meat: round\n",
      "  count: 14\n",
      "meat: ball\n",
      "  count: 13\n",
      "meat: venison\n",
      "  count: 12\n",
      "meat: chop\n",
      "  count: 9\n",
      "meat: meatball\n",
      "  count: 8\n",
      "meat: t-bone\n",
      "  count: 10\n",
      "meat: turkey\n",
      "  count: 14\n",
      "meat: jowl\n",
      "  count: 18\n",
      "meat: short\n",
      "  count: 26\n",
      "meat: beef\n",
      "  count: 36\n",
      "meat: tail\n",
      "  count: 17\n",
      "meat: mignon\n",
      "  count: 14\n",
      "meat: shoulder\n",
      "  count: 19\n",
      "meat: bacon\n",
      "  count: 15\n",
      "meat: strip\n",
      "  count: 11\n",
      "meat: biltong\n",
      "  count: 17\n",
      "meat: pork\n",
      "  count: 36\n",
      "meat: boudin\n",
      "  count: 10\n",
      "meat: andouille\n",
      "  count: 11\n",
      "meat: picanha\n",
      "  count: 15\n",
      "meat: salami\n",
      "  count: 14\n",
      "meat: tenderloin\n",
      "  count: 6\n",
      "meat: pig\n",
      "  count: 15\n"
     ]
    }
   ],
   "source": [
    "for m in set(meats):  # a set is a data structure that contains no duplicates\n",
    "    print('meat: {}\\n  count: {}'.format(m, meats.count(m)))"
   ]
  },
  {
   "cell_type": "code",
   "execution_count": 35,
   "metadata": {
    "collapsed": false,
    "scrolled": false
   },
   "outputs": [
    {
     "name": "stdout",
     "output_type": "stream",
     "text": [
      "{'tri-tip': 12, 'ground': 14, 'meatloaf': 10, 'hock': 12, 'tip': 13, 'kielbasa': 8, 'filet': 14, 'drumstick': 14, 'hamburger': 8, 'porchetta': 14, 'shank': 14, 'pancetta': 12, 'jerky': 14, 'corned': 10, 'flank': 9, 'pastrami': 17, 'meatball': 8, 'rump': 17, 'alcatra': 10, 'spare': 14, 'swine': 9, 'leberkas': 10, 'shankle': 9, 'landjaeger': 10, 'round': 14, 'ball': 13, 'venison': 12, 'chicken': 10, 'jowl': 18, 'mignon': 14, 'shoulder': 19, 'strip': 11, 'pork': 36, 'picanha': 15, 'andouille': 11, 'tenderloin': 6, 'loin': 26, 'brisket': 17, 'beef': 36, 'belly': 8, 'kevin': 15, 'tongue': 12, 'sirloin': 8, 'ribeye': 7, 'cow': 12, 'ham': 23, 'capicola': 12, 'ribs': 39, 'bresaola': 10, 'doner': 19, 'fatback': 17, 'bacon': 15, 'cupim': 13, 'chuck': 14, 'prosciutto': 10, 'turducken': 11, 'frankfurter': 13, 'steak': 11, 'chop': 9, 't-bone': 10, 'turkey': 14, 'short': 26, 'tail': 17, 'sausage': 15, 'biltong': 17, 'boudin': 10, 'salami': 14, 'pig': 15}\n"
     ]
    }
   ],
   "source": [
    "from collections import Counter\n",
    "\n",
    "# a dictionary is a hash table\n",
    "counts = dict(Counter(meats))  # a better way\n",
    "print(counts)"
   ]
  },
  {
   "cell_type": "code",
   "execution_count": 36,
   "metadata": {
    "collapsed": false,
    "scrolled": true
   },
   "outputs": [],
   "source": [
    "# see https://docs.python.org/3/library/stdtypes.html#str for the whole list of string methods, they're super useful"
   ]
  },
  {
   "cell_type": "code",
   "execution_count": 37,
   "metadata": {
    "collapsed": false,
    "scrolled": true
   },
   "outputs": [],
   "source": [
    "import matplotlib.pyplot as plt\n",
    "import seaborn as sns\n",
    "\n",
    "%matplotlib inline\n",
    "\n",
    "distribution = list(counts.values())"
   ]
  },
  {
   "cell_type": "code",
   "execution_count": 38,
   "metadata": {
    "collapsed": false,
    "scrolled": true
   },
   "outputs": [
    {
     "data": {
      "text/plain": [
       "<matplotlib.axes.AxesSubplot at 0x7f39c275a550>"
      ]
     },
     "execution_count": 38,
     "metadata": {},
     "output_type": "execute_result"
    },
    {
     "data": {
      "image/png": "[encoded data removed]",
      "text/plain": [
       "<matplotlib.figure.Figure at 0x7f39e2f83a20>"
      ]
     },
     "metadata": {},
     "output_type": "display_data"
    }
   ],
   "source": [
    "sns.distplot(distribution)  # meatsribution"
   ]
  },
  {
   "cell_type": "code",
   "execution_count": 39,
   "metadata": {
    "collapsed": false
   },
   "outputs": [
    {
     "data": {
      "text/plain": [
       "<matplotlib.axes.AxesSubplot at 0x7f39c03c0f98>"
      ]
     },
     "execution_count": 39,
     "metadata": {},
     "output_type": "execute_result"
    },
    {
     "data": {
      "image/png": "[encoded data removed]",
      "text/plain": [
       "<matplotlib.figure.Figure at 0x7f39e2f83828>"
      ]
     },
     "metadata": {},
     "output_type": "display_data"
    }
   ],
   "source": [
    "sns.boxplot(distribution)"
   ]
  },
  {
   "cell_type": "code",
   "execution_count": 40,
   "metadata": {
    "collapsed": false
   },
   "outputs": [
    {
     "data": {
      "text/plain": [
       "<matplotlib.axes.AxesSubplot at 0x7f39c031f320>"
      ]
     },
     "execution_count": 40,
     "metadata": {},
     "output_type": "execute_result"
    },
    {
     "data": {
      "image/png": "[encoded data removed]",
      "text/plain": [
       "<matplotlib.figure.Figure at 0x7f39c0325a90>"
      ]
     },
     "metadata": {},
     "output_type": "display_data"
    }
   ],
   "source": [
    "import numpy as np\n",
    "from time import time\n",
    "\n",
    "np.random.seed(int(time()))\n",
    "\n",
    "x = np.linspace(start=0, stop=1.5*np.pi, num=150)\n",
    "y = 2*np.sin(np.pi*x) + 2*np.sin(x**2) + 3*np.random.rand(4, 1)\n",
    "sns.tsplot(y)"
   ]
  },
  {
   "cell_type": "code",
   "execution_count": null,
   "metadata": {
    "collapsed": false
   },
   "outputs": [],
   "source": []
  },
  {
   "cell_type": "code",
   "execution_count": null,
   "metadata": {
    "collapsed": true,
    "scrolled": true
   },
   "outputs": [],
   "source": []
  }
 ],
 "metadata": {
  "kernelspec": {
   "display_name": "Python 3",
   "language": "python",
   "name": "python3"
  },
  "language_info": {
   "codemirror_mode": {
    "name": "ipython",
    "version": 3
   },
   "file_extension": ".py",
   "mimetype": "text/x-python",
   "name": "python",
   "nbconvert_exporter": "python",
   "pygments_lexer": "ipython3",
   "version": "3.4.3"
  }
 },
 "nbformat": 4,
 "nbformat_minor": 1
}

